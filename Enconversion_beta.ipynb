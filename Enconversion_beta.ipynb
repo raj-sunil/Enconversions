{
 "cells": [
  {
   "cell_type": "code",
   "execution_count": 90,
   "metadata": {
    "collapsed": true
   },
   "outputs": [],
   "source": [
    "import spacy\n",
    "from spacy.pipeline import DependencyParser\n",
    "from spacy.symbols import nsubj, VERB"
   ]
  },
  {
   "cell_type": "code",
   "execution_count": 91,
   "metadata": {
    "collapsed": true
   },
   "outputs": [],
   "source": [
    "nlp=spacy.load('en')"
   ]
  },
  {
   "cell_type": "code",
   "execution_count": 115,
   "metadata": {
    "collapsed": true
   },
   "outputs": [],
   "source": [
    "doc=nlp(u\"I want to go to the zoo with my friends\")"
   ]
  },
  {
   "cell_type": "code",
   "execution_count": 81,
   "metadata": {
    "collapsed": false
   },
   "outputs": [
    {
     "name": "stdout",
     "output_type": "stream",
     "text": [
      "it\n",
      "nsubj\n"
     ]
    }
   ],
   "source": [
    "for np in doc.noun_chunks:\n",
    "    print(np.text)\n",
    "    print(np.root.dep_)"
   ]
  },
  {
   "cell_type": "code",
   "execution_count": 82,
   "metadata": {
    "collapsed": false
   },
   "outputs": [
    {
     "data": {
      "text/plain": [
       "<spacy.pipeline.DependencyParser at 0x2190be778>"
      ]
     },
     "execution_count": 82,
     "metadata": {},
     "output_type": "execute_result"
    }
   ],
   "source": [
    "DependencyParser(doc.vocab)"
   ]
  },
  {
   "cell_type": "code",
   "execution_count": 106,
   "metadata": {
    "collapsed": false
   },
   "outputs": [],
   "source": [
    "verbs = set()\n",
    "for possible_subject in doc:\n",
    "    if possible_subject.dep == nsubj : #and possible_subject.head.pos == VERB:\n",
    "        verbs.add((possible_subject.head,possible_subject,possible_subject.dep_))"
   ]
  },
  {
   "cell_type": "code",
   "execution_count": 107,
   "metadata": {
    "collapsed": false
   },
   "outputs": [
    {
     "data": {
      "text/plain": [
       "{(go, it, 'nsubj')}"
      ]
     },
     "execution_count": 107,
     "metadata": {},
     "output_type": "execute_result"
    }
   ],
   "source": [
    "verbs"
   ]
  },
  {
   "cell_type": "code",
   "execution_count": 116,
   "metadata": {
    "collapsed": false
   },
   "outputs": [
    {
     "name": "stdout",
     "output_type": "stream",
     "text": [
      "want I nsubj\n",
      "go to aux\n",
      "want go xcomp\n",
      "go to prep\n",
      "zoo the det\n",
      "to zoo pobj\n",
      "go with prep\n",
      "friends my poss\n",
      "with friends pobj\n"
     ]
    }
   ],
   "source": [
    "word={}\n",
    "for words in doc:\n",
    "    if words.dep_ !='ROOT':\n",
    "        word[words]=(words.head,words.dep_)\n",
    "        print(words.head,words,words.dep_)"
   ]
  },
  {
   "cell_type": "code",
   "execution_count": 110,
   "metadata": {
    "collapsed": true
   },
   "outputs": [],
   "source": [
    "import os\n",
    "import pandas as pd\n",
    "os.chdir('/Users/builduser/Documents/Enconversion')"
   ]
  },
  {
   "cell_type": "code",
   "execution_count": 148,
   "metadata": {
    "collapsed": false
   },
   "outputs": [],
   "source": [
    "import glob\n",
    "import numpy as np\n",
    "file_list=(glob.glob(\"/Users/builduser/Documents/Enconversion/en/*.txt\"))"
   ]
  },
  {
   "cell_type": "code",
   "execution_count": 130,
   "metadata": {
    "collapsed": false
   },
   "outputs": [],
   "source": [
    "unls=[]\n",
    "words=[]\n",
    "for files in file_list:\n",
    "    file=open(files).readlines()\n",
    "    for i,x in enumerate(file):\n",
    "        if i%2!=0:\n",
    "            unls.append(x.strip('\\n'))\n",
    "        else:\n",
    "            words.append(x.strip(' -->> .-\\n'))\n",
    "\n",
    "    "
   ]
  },
  {
   "cell_type": "code",
   "execution_count": 145,
   "metadata": {
    "collapsed": false
   },
   "outputs": [],
   "source": [
    "words=pd.DataFrame(words,columns=['words'])\n",
    "unls=pd.DataFrame(unls,columns=['unls'])\n",
    "data=pd.concat([words,unls],axis=1)"
   ]
  },
  {
   "cell_type": "code",
   "execution_count": 218,
   "metadata": {
    "collapsed": false
   },
   "outputs": [
    {
     "data": {
      "text/html": [
       "<div>\n",
       "<table border=\"1\" class=\"dataframe\">\n",
       "  <thead>\n",
       "    <tr style=\"text-align: right;\">\n",
       "      <th></th>\n",
       "      <th>words</th>\n",
       "      <th>unls</th>\n",
       "      <th>agt</th>\n",
       "    </tr>\n",
       "  </thead>\n",
       "  <tbody>\n",
       "    <tr>\n",
       "      <th>0</th>\n",
       "      <td>II- I see</td>\n",
       "      <td>agt(2002129289,00.@1)</td>\n",
       "      <td>1</td>\n",
       "    </tr>\n",
       "    <tr>\n",
       "      <th>1</th>\n",
       "      <td>I agreed</td>\n",
       "      <td>agt(2000805376.@past,00.@1)</td>\n",
       "      <td>1</td>\n",
       "    </tr>\n",
       "    <tr>\n",
       "      <th>2</th>\n",
       "      <td>I ate it</td>\n",
       "      <td>agt(2001168468.@past,00.@1);obj(2001168468.@pa...</td>\n",
       "      <td>1</td>\n",
       "    </tr>\n",
       "    <tr>\n",
       "      <th>3</th>\n",
       "      <td>I can go</td>\n",
       "      <td>agt(2101835496.@ability,00.@1)</td>\n",
       "      <td>1</td>\n",
       "    </tr>\n",
       "    <tr>\n",
       "      <th>4</th>\n",
       "      <td>I did it</td>\n",
       "      <td>agt(2002560585.@past,00.@1);obj(2002560585.@pa...</td>\n",
       "      <td>1</td>\n",
       "    </tr>\n",
       "  </tbody>\n",
       "</table>\n",
       "</div>"
      ],
      "text/plain": [
       "       words                                               unls  agt\n",
       "0  II- I see                              agt(2002129289,00.@1)    1\n",
       "1   I agreed                        agt(2000805376.@past,00.@1)    1\n",
       "2   I ate it  agt(2001168468.@past,00.@1);obj(2001168468.@pa...    1\n",
       "3   I can go                     agt(2101835496.@ability,00.@1)    1\n",
       "4   I did it  agt(2002560585.@past,00.@1);obj(2002560585.@pa...    1"
      ]
     },
     "execution_count": 218,
     "metadata": {},
     "output_type": "execute_result"
    }
   ],
   "source": [
    "data.head()"
   ]
  },
  {
   "cell_type": "code",
   "execution_count": 231,
   "metadata": {
    "collapsed": false
   },
   "outputs": [],
   "source": [
    "data['Attr_Count']=data.unls.str.count(\"\\(\")"
   ]
  },
  {
   "cell_type": "code",
   "execution_count": 232,
   "metadata": {
    "collapsed": false
   },
   "outputs": [
    {
     "data": {
      "text/html": [
       "<div>\n",
       "<table border=\"1\" class=\"dataframe\">\n",
       "  <thead>\n",
       "    <tr style=\"text-align: right;\">\n",
       "      <th></th>\n",
       "      <th>words</th>\n",
       "      <th>unls</th>\n",
       "      <th>agt</th>\n",
       "      <th>Attr_Count</th>\n",
       "    </tr>\n",
       "  </thead>\n",
       "  <tbody>\n",
       "    <tr>\n",
       "      <th>0</th>\n",
       "      <td>II- I see</td>\n",
       "      <td>agt(2002129289,00.@1)</td>\n",
       "      <td>1</td>\n",
       "      <td>1.0</td>\n",
       "    </tr>\n",
       "    <tr>\n",
       "      <th>1</th>\n",
       "      <td>I agreed</td>\n",
       "      <td>agt(2000805376.@past,00.@1)</td>\n",
       "      <td>1</td>\n",
       "      <td>1.0</td>\n",
       "    </tr>\n",
       "    <tr>\n",
       "      <th>2</th>\n",
       "      <td>I ate it</td>\n",
       "      <td>agt(2001168468.@past,00.@1);obj(2001168468.@pa...</td>\n",
       "      <td>1</td>\n",
       "      <td>2.0</td>\n",
       "    </tr>\n",
       "    <tr>\n",
       "      <th>3</th>\n",
       "      <td>I can go</td>\n",
       "      <td>agt(2101835496.@ability,00.@1)</td>\n",
       "      <td>1</td>\n",
       "      <td>1.0</td>\n",
       "    </tr>\n",
       "    <tr>\n",
       "      <th>4</th>\n",
       "      <td>I did it</td>\n",
       "      <td>agt(2002560585.@past,00.@1);obj(2002560585.@pa...</td>\n",
       "      <td>1</td>\n",
       "      <td>2.0</td>\n",
       "    </tr>\n",
       "    <tr>\n",
       "      <th>5</th>\n",
       "      <td>I got it</td>\n",
       "      <td>agt(2002210855.@past,00.@1);obj(2002210855.@pa...</td>\n",
       "      <td>1</td>\n",
       "      <td>2.0</td>\n",
       "    </tr>\n",
       "    <tr>\n",
       "      <th>6</th>\n",
       "      <td>I will try</td>\n",
       "      <td>agt(2002530167.@future,00.@1)</td>\n",
       "      <td>1</td>\n",
       "      <td>1.0</td>\n",
       "    </tr>\n",
       "    <tr>\n",
       "      <th>7</th>\n",
       "      <td>May I go?</td>\n",
       "      <td>agt(2101835496.@interrogative.@hypothesis,00.@1)</td>\n",
       "      <td>1</td>\n",
       "      <td>1.0</td>\n",
       "    </tr>\n",
       "    <tr>\n",
       "      <th>8</th>\n",
       "      <td>I am sick</td>\n",
       "      <td>agt(2002604760,00.@1);obj(2002604760,3002541302)</td>\n",
       "      <td>1</td>\n",
       "      <td>2.0</td>\n",
       "    </tr>\n",
       "    <tr>\n",
       "      <th>9</th>\n",
       "      <td>I am full</td>\n",
       "      <td>agt(2002604760,00.@1);obj(2002604760,3001083157)</td>\n",
       "      <td>1</td>\n",
       "      <td>2.0</td>\n",
       "    </tr>\n",
       "    <tr>\n",
       "      <th>10</th>\n",
       "      <td>I can run</td>\n",
       "      <td>agt(2001926311.@ability,00.@1)</td>\n",
       "      <td>1</td>\n",
       "      <td>1.0</td>\n",
       "    </tr>\n",
       "    <tr>\n",
       "      <th>11</th>\n",
       "      <td>I am ready</td>\n",
       "      <td>agt(2002604760,00.@1);obj(2002604760,3001930512)</td>\n",
       "      <td>1</td>\n",
       "      <td>2.0</td>\n",
       "    </tr>\n",
       "    <tr>\n",
       "      <th>12</th>\n",
       "      <td>I had fun</td>\n",
       "      <td>agt(2002203362.@past,00.@1);obj(2002203362.@pa...</td>\n",
       "      <td>1</td>\n",
       "      <td>2.0</td>\n",
       "    </tr>\n",
       "    <tr>\n",
       "      <th>13</th>\n",
       "      <td>I got mad</td>\n",
       "      <td>agt(2002210855.@past,00.@1);obj(2002210855.@pa...</td>\n",
       "      <td>1</td>\n",
       "      <td>2.0</td>\n",
       "    </tr>\n",
       "    <tr>\n",
       "      <th>14</th>\n",
       "      <td>I like it</td>\n",
       "      <td>agt(2001824736,00.@1);obj(2001824736,00.@3.@ne...</td>\n",
       "      <td>1</td>\n",
       "      <td>2.0</td>\n",
       "    </tr>\n",
       "    <tr>\n",
       "      <th>15</th>\n",
       "      <td>I lost it</td>\n",
       "      <td>agt(2002287789.@past,00.@1);obj(2002287789.@pa...</td>\n",
       "      <td>1</td>\n",
       "      <td>2.0</td>\n",
       "    </tr>\n",
       "    <tr>\n",
       "      <th>16</th>\n",
       "      <td>I love it!</td>\n",
       "      <td>agt(2001775164,00.@1);obj(2001775164,00.@3.@ne...</td>\n",
       "      <td>1</td>\n",
       "      <td>2.0</td>\n",
       "    </tr>\n",
       "    <tr>\n",
       "      <th>17</th>\n",
       "      <td>I am sorry</td>\n",
       "      <td>agt(2002604760,00.@1);obj(2002604760,sorry)</td>\n",
       "      <td>1</td>\n",
       "      <td>2.0</td>\n",
       "    </tr>\n",
       "    <tr>\n",
       "      <th>18</th>\n",
       "      <td>I need it</td>\n",
       "      <td>agt(2002627934,00.@1);obj(2002627934,00.@3.@ne...</td>\n",
       "      <td>1</td>\n",
       "      <td>2.0</td>\n",
       "    </tr>\n",
       "    <tr>\n",
       "      <th>19</th>\n",
       "      <td>I promise</td>\n",
       "      <td>agt(2000884011,00.@1)</td>\n",
       "      <td>1</td>\n",
       "      <td>1.0</td>\n",
       "    </tr>\n",
       "    <tr>\n",
       "      <th>20</th>\n",
       "      <td>I saw him</td>\n",
       "      <td>agt(2002129289.@past,00.@1);obj(2002129289.@pa...</td>\n",
       "      <td>1</td>\n",
       "      <td>2.0</td>\n",
       "    </tr>\n",
       "    <tr>\n",
       "      <th>21</th>\n",
       "      <td>I want it</td>\n",
       "      <td>agt(2001825237,00.@1);obj(2001825237,00.@3.@ne...</td>\n",
       "      <td>1</td>\n",
       "      <td>2.0</td>\n",
       "    </tr>\n",
       "    <tr>\n",
       "      <th>22</th>\n",
       "      <td>I will cook</td>\n",
       "      <td>agt(2001665638.@future,00.@1)</td>\n",
       "      <td>1</td>\n",
       "      <td>1.0</td>\n",
       "    </tr>\n",
       "    <tr>\n",
       "      <th>23</th>\n",
       "      <td>I am angry</td>\n",
       "      <td>agt(2002604760,00.@1);obj(2002604760,3000113818)</td>\n",
       "      <td>1</td>\n",
       "      <td>2.0</td>\n",
       "    </tr>\n",
       "    <tr>\n",
       "      <th>24</th>\n",
       "      <td>I am going</td>\n",
       "      <td>agt(2101835496.@continuous,00.@1)</td>\n",
       "      <td>1</td>\n",
       "      <td>1.0</td>\n",
       "    </tr>\n",
       "    <tr>\n",
       "      <th>25</th>\n",
       "      <td>Can I come?</td>\n",
       "      <td>agt(2001849221.@ability.@interrogative,00.@1)</td>\n",
       "      <td>1</td>\n",
       "      <td>1.0</td>\n",
       "    </tr>\n",
       "    <tr>\n",
       "      <th>26</th>\n",
       "      <td>Can I stay?</td>\n",
       "      <td>agt(2000117985.@ability.@interrogative,00.@1)</td>\n",
       "      <td>1</td>\n",
       "      <td>1.0</td>\n",
       "    </tr>\n",
       "    <tr>\n",
       "      <th>27</th>\n",
       "      <td>I am a boy</td>\n",
       "      <td>agt(2002604760,00.@1);obj(2002604760,101028531...</td>\n",
       "      <td>1</td>\n",
       "      <td>2.0</td>\n",
       "    </tr>\n",
       "    <tr>\n",
       "      <th>28</th>\n",
       "      <td>I am happy</td>\n",
       "      <td>agt(2002604760,00.@1);obj(2002604760,3001148283)</td>\n",
       "      <td>1</td>\n",
       "      <td>2.0</td>\n",
       "    </tr>\n",
       "    <tr>\n",
       "      <th>29</th>\n",
       "      <td>I can cook</td>\n",
       "      <td>agt(2001665638.@ability,00.@1)</td>\n",
       "      <td>1</td>\n",
       "      <td>1.0</td>\n",
       "    </tr>\n",
       "    <tr>\n",
       "      <th>...</th>\n",
       "      <td>...</td>\n",
       "      <td>...</td>\n",
       "      <td>...</td>\n",
       "      <td>...</td>\n",
       "    </tr>\n",
       "    <tr>\n",
       "      <th>4821</th>\n",
       "      <td>The car goes fast</td>\n",
       "      <td>agt(2001825237.@present,00.@1);obj(2001825237....</td>\n",
       "      <td>1</td>\n",
       "      <td>3.0</td>\n",
       "    </tr>\n",
       "    <tr>\n",
       "      <th>4822</th>\n",
       "      <td>I feel happy</td>\n",
       "      <td>agt(2001825237.@present.@not,00.@1);obj(200182...</td>\n",
       "      <td>1</td>\n",
       "      <td>2.0</td>\n",
       "    </tr>\n",
       "    <tr>\n",
       "      <th>4823</th>\n",
       "      <td>I want an apple</td>\n",
       "      <td>agt(2001825237.@present,00.@1);obj(2001825237....</td>\n",
       "      <td>1</td>\n",
       "      <td>3.0</td>\n",
       "    </tr>\n",
       "    <tr>\n",
       "      <th>4824</th>\n",
       "      <td>I want to play now</td>\n",
       "      <td>agt(200625119.@present.@ability.@interrogative...</td>\n",
       "      <td>1</td>\n",
       "      <td>2.0</td>\n",
       "    </tr>\n",
       "    <tr>\n",
       "      <th>4825</th>\n",
       "      <td>I don't want apples</td>\n",
       "      <td>agt(2001835496.@present.@ability.@interrogativ...</td>\n",
       "      <td>1</td>\n",
       "      <td>3.0</td>\n",
       "    </tr>\n",
       "    <tr>\n",
       "      <th>4826</th>\n",
       "      <td>I want to go out tomorrow</td>\n",
       "      <td>aoj(00.@3.@neuter.@present.@proximal,00.@wh)</td>\n",
       "      <td>0</td>\n",
       "      <td>1.0</td>\n",
       "    </tr>\n",
       "    <tr>\n",
       "      <th>4827</th>\n",
       "      <td>Can you please read the book? --&gt;&gt; Please missing</td>\n",
       "      <td>plc(2002604760.@present,00.@wh);pos(1010278128...</td>\n",
       "      <td>1</td>\n",
       "      <td>3.0</td>\n",
       "    </tr>\n",
       "    <tr>\n",
       "      <th>4828</th>\n",
       "      <td>Can we go to movie tomorrow?</td>\n",
       "      <td>agt(2001835496.@present.@continuous,00.@1.@pl)...</td>\n",
       "      <td>1</td>\n",
       "      <td>3.0</td>\n",
       "    </tr>\n",
       "    <tr>\n",
       "      <th>4829</th>\n",
       "      <td>What is this?  ---&gt; coming as who is this</td>\n",
       "      <td>agt(2001777210.@interrogative,00.@2);obj(20017...</td>\n",
       "      <td>1</td>\n",
       "      <td>2.0</td>\n",
       "    </tr>\n",
       "    <tr>\n",
       "      <th>4830</th>\n",
       "      <td>Where is my mom?</td>\n",
       "      <td>agt(2001168468.@present.@continuous.@interroga...</td>\n",
       "      <td>1</td>\n",
       "      <td>1.0</td>\n",
       "    </tr>\n",
       "    <tr>\n",
       "      <th>4831</th>\n",
       "      <td>When are we going to the movie?</td>\n",
       "      <td>agt(2002604760,1002778669.@pl);qua(2002604760,...</td>\n",
       "      <td>1</td>\n",
       "      <td>2.0</td>\n",
       "    </tr>\n",
       "    <tr>\n",
       "      <th>4832</th>\n",
       "      <td>Do you like the ball?</td>\n",
       "      <td>aoj(1002773037,00.@3.@proximal);pos(1002773037...</td>\n",
       "      <td>0</td>\n",
       "      <td>2.0</td>\n",
       "    </tr>\n",
       "    <tr>\n",
       "      <th>4833</th>\n",
       "      <td>Are you eating?</td>\n",
       "      <td>obj(2001871979,104372370.@def);tim(2001871979,...</td>\n",
       "      <td>0</td>\n",
       "      <td>2.0</td>\n",
       "    </tr>\n",
       "    <tr>\n",
       "      <th>4834</th>\n",
       "      <td>How many balls are there?</td>\n",
       "      <td>obj(2001508368.@imperative,1002778669.@def)</td>\n",
       "      <td>0</td>\n",
       "      <td>1.0</td>\n",
       "    </tr>\n",
       "    <tr>\n",
       "      <th>4835</th>\n",
       "      <td>Whose bag is this?</td>\n",
       "      <td>obj(2001871979.@not,00.@3.@male)</td>\n",
       "      <td>0</td>\n",
       "      <td>1.0</td>\n",
       "    </tr>\n",
       "    <tr>\n",
       "      <th>4836</th>\n",
       "      <td>Push the switch now</td>\n",
       "      <td>obj(2001835496.@not,1008615149);tim(2001835496...</td>\n",
       "      <td>0</td>\n",
       "      <td>2.0</td>\n",
       "    </tr>\n",
       "    <tr>\n",
       "      <th>4837</th>\n",
       "      <td>Throw the ball</td>\n",
       "      <td>obj(2001860795.@imperative,2001508368.@present...</td>\n",
       "      <td>0</td>\n",
       "      <td>1.0</td>\n",
       "    </tr>\n",
       "    <tr>\n",
       "      <th>4838</th>\n",
       "      <td>Dont push him</td>\n",
       "      <td>gol(2002423183,00.@1.@pl);obj(2002423183,20018...</td>\n",
       "      <td>0</td>\n",
       "      <td>4.0</td>\n",
       "    </tr>\n",
       "    <tr>\n",
       "      <th>4839</th>\n",
       "      <td>Dont go to the park now</td>\n",
       "      <td>agt(2000689344.@present,00:3);agt(2002604760.@...</td>\n",
       "      <td>1</td>\n",
       "      <td>3.0</td>\n",
       "    </tr>\n",
       "    <tr>\n",
       "      <th>4840</th>\n",
       "      <td>Stop throwing</td>\n",
       "      <td>agt(200689344.@present,00:3);agt(2002130524.@p...</td>\n",
       "      <td>1</td>\n",
       "      <td>3.0</td>\n",
       "    </tr>\n",
       "    <tr>\n",
       "      <th>4841</th>\n",
       "      <td>Lets stop the game now</td>\n",
       "      <td>gol(20002423183,00.@1.@pl);obj(2002423183,2001...</td>\n",
       "      <td>0</td>\n",
       "      <td>4.0</td>\n",
       "    </tr>\n",
       "    <tr>\n",
       "      <th>4842</th>\n",
       "      <td>I think the book is great</td>\n",
       "      <td>gol(2002423183,00.@1.@pl);obj(2002423183,20010...</td>\n",
       "      <td>0</td>\n",
       "      <td>3.0</td>\n",
       "    </tr>\n",
       "    <tr>\n",
       "      <th>4843</th>\n",
       "      <td>I think the flower looks pretty</td>\n",
       "      <td>gol(2002423183,00.@1.@pl);obj(2002423183,20011...</td>\n",
       "      <td>0</td>\n",
       "      <td>4.0</td>\n",
       "    </tr>\n",
       "    <tr>\n",
       "      <th>4844</th>\n",
       "      <td>Lets go to a movie tomorrow</td>\n",
       "      <td>gol(2002423183,00.@1.@pl);obj(2002423183,20018...</td>\n",
       "      <td>0</td>\n",
       "      <td>3.0</td>\n",
       "    </tr>\n",
       "    <tr>\n",
       "      <th>4845</th>\n",
       "      <td>Let's play Bingo</td>\n",
       "      <td>mod(John,1006632511.@parenth)</td>\n",
       "      <td>0</td>\n",
       "      <td>1.0</td>\n",
       "    </tr>\n",
       "    <tr>\n",
       "      <th>4846</th>\n",
       "      <td>Let's eat pizza now</td>\n",
       "      <td>mod(1010278128,1006632511.@parenth)</td>\n",
       "      <td>0</td>\n",
       "      <td>1.0</td>\n",
       "    </tr>\n",
       "    <tr>\n",
       "      <th>4847</th>\n",
       "      <td>Let's not go to the zoo</td>\n",
       "      <td>mod(1015155220.@indef,3001386883);obj(20022033...</td>\n",
       "      <td>0</td>\n",
       "      <td>2.0</td>\n",
       "    </tr>\n",
       "    <tr>\n",
       "      <th>4848</th>\n",
       "      <td>Hi John</td>\n",
       "      <td>NaN</td>\n",
       "      <td>1</td>\n",
       "      <td>NaN</td>\n",
       "    </tr>\n",
       "    <tr>\n",
       "      <th>4849</th>\n",
       "      <td>Hi mom</td>\n",
       "      <td>NaN</td>\n",
       "      <td>1</td>\n",
       "      <td>NaN</td>\n",
       "    </tr>\n",
       "    <tr>\n",
       "      <th>4850</th>\n",
       "      <td>Have a great day</td>\n",
       "      <td>NaN</td>\n",
       "      <td>1</td>\n",
       "      <td>NaN</td>\n",
       "    </tr>\n",
       "  </tbody>\n",
       "</table>\n",
       "<p>4851 rows × 4 columns</p>\n",
       "</div>"
      ],
      "text/plain": [
       "                                                  words  \\\n",
       "0                                             II- I see   \n",
       "1                                              I agreed   \n",
       "2                                              I ate it   \n",
       "3                                              I can go   \n",
       "4                                              I did it   \n",
       "5                                              I got it   \n",
       "6                                            I will try   \n",
       "7                                             May I go?   \n",
       "8                                             I am sick   \n",
       "9                                             I am full   \n",
       "10                                            I can run   \n",
       "11                                           I am ready   \n",
       "12                                            I had fun   \n",
       "13                                            I got mad   \n",
       "14                                            I like it   \n",
       "15                                            I lost it   \n",
       "16                                           I love it!   \n",
       "17                                           I am sorry   \n",
       "18                                            I need it   \n",
       "19                                            I promise   \n",
       "20                                            I saw him   \n",
       "21                                            I want it   \n",
       "22                                          I will cook   \n",
       "23                                           I am angry   \n",
       "24                                           I am going   \n",
       "25                                          Can I come?   \n",
       "26                                          Can I stay?   \n",
       "27                                           I am a boy   \n",
       "28                                           I am happy   \n",
       "29                                           I can cook   \n",
       "...                                                 ...   \n",
       "4821                                  The car goes fast   \n",
       "4822                                       I feel happy   \n",
       "4823                                    I want an apple   \n",
       "4824                                 I want to play now   \n",
       "4825                                I don't want apples   \n",
       "4826                          I want to go out tomorrow   \n",
       "4827  Can you please read the book? -->> Please missing   \n",
       "4828                       Can we go to movie tomorrow?   \n",
       "4829          What is this?  ---> coming as who is this   \n",
       "4830                                   Where is my mom?   \n",
       "4831                    When are we going to the movie?   \n",
       "4832                              Do you like the ball?   \n",
       "4833                                    Are you eating?   \n",
       "4834                          How many balls are there?   \n",
       "4835                                 Whose bag is this?   \n",
       "4836                                Push the switch now   \n",
       "4837                                     Throw the ball   \n",
       "4838                                      Dont push him   \n",
       "4839                            Dont go to the park now   \n",
       "4840                                      Stop throwing   \n",
       "4841                             Lets stop the game now   \n",
       "4842                          I think the book is great   \n",
       "4843                    I think the flower looks pretty   \n",
       "4844                        Lets go to a movie tomorrow   \n",
       "4845                                   Let's play Bingo   \n",
       "4846                                Let's eat pizza now   \n",
       "4847                            Let's not go to the zoo   \n",
       "4848                                            Hi John   \n",
       "4849                                             Hi mom   \n",
       "4850                                   Have a great day   \n",
       "\n",
       "                                                   unls  agt  Attr_Count  \n",
       "0                                 agt(2002129289,00.@1)    1         1.0  \n",
       "1                           agt(2000805376.@past,00.@1)    1         1.0  \n",
       "2     agt(2001168468.@past,00.@1);obj(2001168468.@pa...    1         2.0  \n",
       "3                        agt(2101835496.@ability,00.@1)    1         1.0  \n",
       "4     agt(2002560585.@past,00.@1);obj(2002560585.@pa...    1         2.0  \n",
       "5     agt(2002210855.@past,00.@1);obj(2002210855.@pa...    1         2.0  \n",
       "6                         agt(2002530167.@future,00.@1)    1         1.0  \n",
       "7      agt(2101835496.@interrogative.@hypothesis,00.@1)    1         1.0  \n",
       "8      agt(2002604760,00.@1);obj(2002604760,3002541302)    1         2.0  \n",
       "9      agt(2002604760,00.@1);obj(2002604760,3001083157)    1         2.0  \n",
       "10                       agt(2001926311.@ability,00.@1)    1         1.0  \n",
       "11     agt(2002604760,00.@1);obj(2002604760,3001930512)    1         2.0  \n",
       "12    agt(2002203362.@past,00.@1);obj(2002203362.@pa...    1         2.0  \n",
       "13    agt(2002210855.@past,00.@1);obj(2002210855.@pa...    1         2.0  \n",
       "14    agt(2001824736,00.@1);obj(2001824736,00.@3.@ne...    1         2.0  \n",
       "15    agt(2002287789.@past,00.@1);obj(2002287789.@pa...    1         2.0  \n",
       "16    agt(2001775164,00.@1);obj(2001775164,00.@3.@ne...    1         2.0  \n",
       "17          agt(2002604760,00.@1);obj(2002604760,sorry)    1         2.0  \n",
       "18    agt(2002627934,00.@1);obj(2002627934,00.@3.@ne...    1         2.0  \n",
       "19                                agt(2000884011,00.@1)    1         1.0  \n",
       "20    agt(2002129289.@past,00.@1);obj(2002129289.@pa...    1         2.0  \n",
       "21    agt(2001825237,00.@1);obj(2001825237,00.@3.@ne...    1         2.0  \n",
       "22                        agt(2001665638.@future,00.@1)    1         1.0  \n",
       "23     agt(2002604760,00.@1);obj(2002604760,3000113818)    1         2.0  \n",
       "24                    agt(2101835496.@continuous,00.@1)    1         1.0  \n",
       "25        agt(2001849221.@ability.@interrogative,00.@1)    1         1.0  \n",
       "26        agt(2000117985.@ability.@interrogative,00.@1)    1         1.0  \n",
       "27    agt(2002604760,00.@1);obj(2002604760,101028531...    1         2.0  \n",
       "28     agt(2002604760,00.@1);obj(2002604760,3001148283)    1         2.0  \n",
       "29                       agt(2001665638.@ability,00.@1)    1         1.0  \n",
       "...                                                 ...  ...         ...  \n",
       "4821  agt(2001825237.@present,00.@1);obj(2001825237....    1         3.0  \n",
       "4822  agt(2001825237.@present.@not,00.@1);obj(200182...    1         2.0  \n",
       "4823  agt(2001825237.@present,00.@1);obj(2001825237....    1         3.0  \n",
       "4824  agt(200625119.@present.@ability.@interrogative...    1         2.0  \n",
       "4825  agt(2001835496.@present.@ability.@interrogativ...    1         3.0  \n",
       "4826       aoj(00.@3.@neuter.@present.@proximal,00.@wh)    0         1.0  \n",
       "4827  plc(2002604760.@present,00.@wh);pos(1010278128...    1         3.0  \n",
       "4828  agt(2001835496.@present.@continuous,00.@1.@pl)...    1         3.0  \n",
       "4829  agt(2001777210.@interrogative,00.@2);obj(20017...    1         2.0  \n",
       "4830  agt(2001168468.@present.@continuous.@interroga...    1         1.0  \n",
       "4831  agt(2002604760,1002778669.@pl);qua(2002604760,...    1         2.0  \n",
       "4832  aoj(1002773037,00.@3.@proximal);pos(1002773037...    0         2.0  \n",
       "4833  obj(2001871979,104372370.@def);tim(2001871979,...    0         2.0  \n",
       "4834        obj(2001508368.@imperative,1002778669.@def)    0         1.0  \n",
       "4835                   obj(2001871979.@not,00.@3.@male)    0         1.0  \n",
       "4836  obj(2001835496.@not,1008615149);tim(2001835496...    0         2.0  \n",
       "4837  obj(2001860795.@imperative,2001508368.@present...    0         1.0  \n",
       "4838  gol(2002423183,00.@1.@pl);obj(2002423183,20018...    0         4.0  \n",
       "4839  agt(2000689344.@present,00:3);agt(2002604760.@...    1         3.0  \n",
       "4840  agt(200689344.@present,00:3);agt(2002130524.@p...    1         3.0  \n",
       "4841  gol(20002423183,00.@1.@pl);obj(2002423183,2001...    0         4.0  \n",
       "4842  gol(2002423183,00.@1.@pl);obj(2002423183,20010...    0         3.0  \n",
       "4843  gol(2002423183,00.@1.@pl);obj(2002423183,20011...    0         4.0  \n",
       "4844  gol(2002423183,00.@1.@pl);obj(2002423183,20018...    0         3.0  \n",
       "4845                      mod(John,1006632511.@parenth)    0         1.0  \n",
       "4846                mod(1010278128,1006632511.@parenth)    0         1.0  \n",
       "4847  mod(1015155220.@indef,3001386883);obj(20022033...    0         2.0  \n",
       "4848                                                NaN    1         NaN  \n",
       "4849                                                NaN    1         NaN  \n",
       "4850                                                NaN    1         NaN  \n",
       "\n",
       "[4851 rows x 4 columns]"
      ]
     },
     "execution_count": 232,
     "metadata": {},
     "output_type": "execute_result"
    }
   ],
   "source": [
    "data"
   ]
  },
  {
   "cell_type": "code",
   "execution_count": 233,
   "metadata": {
    "collapsed": false
   },
   "outputs": [],
   "source": [
    "data['agt']=np.where(data.unls.str.contains('agt'),1,0)\n",
    "data['obj']=np.where(data.unls.str.contains('obj'),1,0)"
   ]
  },
  {
   "cell_type": "code",
   "execution_count": 266,
   "metadata": {
    "collapsed": true
   },
   "outputs": [],
   "source": [
    "from sklearn.feature_extraction.text import CountVectorizer"
   ]
  },
  {
   "cell_type": "code",
   "execution_count": 278,
   "metadata": {
    "collapsed": false
   },
   "outputs": [
    {
     "data": {
      "text/plain": [
       "CountVectorizer(analyzer='word', binary=False, decode_error='strict',\n",
       "        dtype=<class 'numpy.int64'>, encoding='utf-8', input='content',\n",
       "        lowercase=True, max_df=1.0, max_features=None, min_df=1,\n",
       "        ngram_range=(1, 1), preprocessor=None, stop_words=None,\n",
       "        strip_accents=None, token_pattern='(?u)\\\\b\\\\w\\\\w+\\\\b',\n",
       "        tokenizer=None, vocabulary=None)"
      ]
     },
     "execution_count": 278,
     "metadata": {},
     "output_type": "execute_result"
    }
   ],
   "source": [
    "count=CountVectorizer()\n",
    "count.fit(data.words.values)"
   ]
  },
  {
   "cell_type": "code",
   "execution_count": 279,
   "metadata": {
    "collapsed": false
   },
   "outputs": [],
   "source": [
    "array=count.transform(data.words)"
   ]
  },
  {
   "cell_type": "code",
   "execution_count": 280,
   "metadata": {
    "collapsed": false
   },
   "outputs": [],
   "source": [
    "train=array.toarray()"
   ]
  },
  {
   "cell_type": "code",
   "execution_count": 298,
   "metadata": {
    "collapsed": false
   },
   "outputs": [],
   "source": [
    "y=data.agt.values"
   ]
  },
  {
   "cell_type": "code",
   "execution_count": 299,
   "metadata": {
    "collapsed": false
   },
   "outputs": [],
   "source": [
    "from sklearn.cross_validation import train_test_split\n",
    "from sklearn.naive_bayes import MultinomialNB\n",
    "from sklearn.linear_model import LogisticRegression\n",
    "from sklearn.metrics import accuracy_score,confusion_matrix\n",
    "#from sklearn."
   ]
  },
  {
   "cell_type": "code",
   "execution_count": 300,
   "metadata": {
    "collapsed": false
   },
   "outputs": [],
   "source": [
    "x_train,x_test,y_train,y_test=train_test_split(train,y)"
   ]
  },
  {
   "cell_type": "code",
   "execution_count": 301,
   "metadata": {
    "collapsed": true
   },
   "outputs": [],
   "source": [
    "model=MultinomialNB()"
   ]
  },
  {
   "cell_type": "code",
   "execution_count": 302,
   "metadata": {
    "collapsed": false
   },
   "outputs": [
    {
     "data": {
      "text/plain": [
       "MultinomialNB(alpha=1.0, class_prior=None, fit_prior=True)"
      ]
     },
     "execution_count": 302,
     "metadata": {},
     "output_type": "execute_result"
    }
   ],
   "source": [
    "model.fit(x_train,y_train)"
   ]
  },
  {
   "cell_type": "code",
   "execution_count": 303,
   "metadata": {
    "collapsed": false
   },
   "outputs": [],
   "source": [
    "pred=model.predict(x_test)"
   ]
  },
  {
   "cell_type": "code",
   "execution_count": 304,
   "metadata": {
    "collapsed": false
   },
   "outputs": [
    {
     "data": {
      "text/plain": [
       "0.88788128606760097"
      ]
     },
     "execution_count": 304,
     "metadata": {},
     "output_type": "execute_result"
    }
   ],
   "source": [
    "accuracy_score(pred,y_test)"
   ]
  },
  {
   "cell_type": "code",
   "execution_count": 305,
   "metadata": {
    "collapsed": false
   },
   "outputs": [
    {
     "data": {
      "text/plain": [
       "array([[134, 125],\n",
       "       [ 11, 943]])"
      ]
     },
     "execution_count": 305,
     "metadata": {},
     "output_type": "execute_result"
    }
   ],
   "source": [
    "confusion_matrix(y_test,pred)"
   ]
  },
  {
   "cell_type": "code",
   "execution_count": null,
   "metadata": {
    "collapsed": false
   },
   "outputs": [],
   "source": []
  },
  {
   "cell_type": "code",
   "execution_count": null,
   "metadata": {
    "collapsed": true
   },
   "outputs": [],
   "source": []
  }
 ],
 "metadata": {
  "anaconda-cloud": {},
  "kernelspec": {
   "display_name": "Python [default]",
   "language": "python",
   "name": "python3"
  },
  "language_info": {
   "codemirror_mode": {
    "name": "ipython",
    "version": 3
   },
   "file_extension": ".py",
   "mimetype": "text/x-python",
   "name": "python",
   "nbconvert_exporter": "python",
   "pygments_lexer": "ipython3",
   "version": "3.5.2"
  }
 },
 "nbformat": 4,
 "nbformat_minor": 1
}
